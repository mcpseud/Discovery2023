{
 "cells": [
  {
   "cell_type": "markdown",
   "id": "2d5dbdb3",
   "metadata": {},
   "source": [
    "# Workshop 3: How can we slow the spread of antimicrobial resistance?\n",
    "\n",
    "In Lecture 3 we learned about how resistance spreads. Fundamentally the main driver of resistance is \n",
    "antimicrobial usage – if we didn't use antimicrobials at all then resistance would not be spreading. However, antimicrobial usage is essential for treating and preventing infections, so we need to devise clever strategies to minimise the speed of spread of antimicrobial resistance while continuing to use them. In this workshop you will try to design a strategy of this sort.\n",
    "\n",
    "In the workshop you will run a pre-coded computer model of the spread of antimicrobial resistance in a hospital. This model captures the scenario we discussed in Lecture 3 of the spread of both antimicrobial resistant and antimicrobial susceptible bacteria. Working in groups you will decide on a strategy for which antimicrobials should be deployed where in the hospital based on information available to you on current levels of resistance in the hospital. You will learn how to code this as a function in Python and test if it helps reduce deaths in the hospital compared to baseline antimicrobial usage practices.\n",
    "\n",
    "\n",
    "#### Intended Learning Outcomes\n",
    "\n",
    "By the end of this workshop, you should be able to:\n",
    "\n",
    "* Run simulation models in python and plot their behaviour\n",
    "* Write your own function in Python\n",
    "* Iteratively modify and evaluate function code to improve performance\n",
    "\n",
    "\n",
    "### Working as a group\n",
    "\n",
    "Your task today is as much conceptual as a coding task. You need to think about what strategy for using antibiotics might help slow the spread of resistance.\n",
    "\n",
    "**Discuss your code, ideas and answers with other members of the group.** Peer assistance (not copying answers but talking through your approaches to the problem) can help avoid you getting stuck, increase how much you learn from the session and make it more enjoyable.\n",
    "\n",
    "\n",
    "\n"
   ]
  },
  {
   "cell_type": "markdown",
   "id": "fc8760ec",
   "metadata": {},
   "source": [
    "# Basics of building functions in Python\n",
    "\n",
    "In order to tell the model for the spread of resistance how to deploy antibiotics you need to build a function that says which antibiotics to use based on So far you've used many functions in this course and in Variation 1 to manipulate, analyse and plot data with Python. However, you do not simply have to rely on functions from the In Python you can create a function using the word `def`. Let's look at a simple example to beign.\n"
   ]
  },
  {
   "cell_type": "code",
   "execution_count": 5,
   "id": "23c0ee22",
   "metadata": {},
   "outputs": [],
   "source": [
    "def my_hello_function():\n",
    "    print(\"My function says hello!\") "
   ]
  },
  {
   "cell_type": "markdown",
   "id": "d25f5f07",
   "metadata": {},
   "source": [
    "This piece of code defines a very simple function, which we have names `my_hello_function` that will print the words \"My function says hello!\" when we call the function. We can now call the function by typing the function name followed by parentheses.\n"
   ]
  },
  {
   "cell_type": "code",
   "execution_count": 6,
   "id": "ac1a3ae4",
   "metadata": {
    "scrolled": true
   },
   "outputs": [
    {
     "name": "stdout",
     "output_type": "stream",
     "text": [
      "My function says hello!\n"
     ]
    }
   ],
   "source": [
    "my_hello_function()"
   ]
  },
  {
   "cell_type": "markdown",
   "id": "c9f35e1e",
   "metadata": {},
   "source": [
    "However, generally when we call a function we want to pass something to the function, which it will then modify or use in some way. This information can be passed to the function as arguments. Your function can have as many arguments added to it as you want. Arguments are specified inside the paraentheses after the function name, and should be separated by commas. Let's build a simple function for addition to see how it works."
   ]
  },
  {
   "cell_type": "code",
   "execution_count": 16,
   "id": "4433c56f",
   "metadata": {
    "scrolled": true
   },
   "outputs": [],
   "source": [
    "def my_addition_function(x,y):\n",
    "    return x+y"
   ]
  },
  {
   "cell_type": "code",
   "execution_count": 17,
   "id": "1fb0fddd",
   "metadata": {
    "scrolled": true
   },
   "outputs": [
    {
     "data": {
      "text/plain": [
       "13"
      ]
     },
     "execution_count": 17,
     "metadata": {},
     "output_type": "execute_result"
    }
   ],
   "source": [
    "my_addition_function(9,4)"
   ]
  },
  {
   "cell_type": "markdown",
   "id": "c1eec88d",
   "metadata": {},
   "source": [
    "In this example we have specified two arguments, x and y, which the function will add together, and return the calculated value. What the function should return is indicated with the `return` keyword. We can add further complexity to our function by adding logical conditions to our functions. For example let's imagine we want our function tell us which of x and y are larger."
   ]
  },
  {
   "cell_type": "code",
   "execution_count": 13,
   "id": "5d188250",
   "metadata": {
    "scrolled": true
   },
   "outputs": [],
   "source": [
    "def whichlarger_function(x,y):\n",
    "    if (x>y):\n",
    "        return \"x is larger\"\n",
    "    elif (x<y):\n",
    "        return \"y is larger\"\n",
    "    else:\n",
    "        return \"x and y are equal\"\n"
   ]
  },
  {
   "cell_type": "markdown",
   "id": "284fdf9e",
   "metadata": {},
   "source": [
    "Here the function first asks if x>y using the `if` keyword, and if so it will return the text \"x is larger\" and the function call ends. We next use the `elif` keyword (shorthand for \"else if\") to tell the function to evaluate whether x<y, and if so return \"y is larger\". However, `elif` will only evaluate this when our previous previous `if` statement was not true. Finally, we use the `else` keyword to return \"x and y are equal\" if neither of our previous statements were true. Let's call this function with a few combinations of numbers to see how it behaves."
   ]
  },
  {
   "cell_type": "code",
   "execution_count": 18,
   "id": "4d8ba24c",
   "metadata": {
    "scrolled": false
   },
   "outputs": [
    {
     "data": {
      "text/plain": [
       "'y is larger'"
      ]
     },
     "execution_count": 18,
     "metadata": {},
     "output_type": "execute_result"
    }
   ],
   "source": [
    "whichlarger_function(2,4)"
   ]
  },
  {
   "cell_type": "code",
   "execution_count": 19,
   "id": "e05cb202",
   "metadata": {
    "scrolled": false
   },
   "outputs": [
    {
     "data": {
      "text/plain": [
       "'x is larger'"
      ]
     },
     "execution_count": 19,
     "metadata": {},
     "output_type": "execute_result"
    }
   ],
   "source": [
    "whichlarger_function(6,5)"
   ]
  },
  {
   "cell_type": "code",
   "execution_count": 20,
   "id": "af7889e8",
   "metadata": {
    "scrolled": true
   },
   "outputs": [
    {
     "data": {
      "text/plain": [
       "'x and y are equal'"
      ]
     },
     "execution_count": 20,
     "metadata": {},
     "output_type": "execute_result"
    }
   ],
   "source": [
    "whichlarger_function(3,3)"
   ]
  },
  {
   "cell_type": "markdown",
   "id": "e6a391fb",
   "metadata": {},
   "source": [
    "Finally, we can also have our functions generate random numbers to allow for variability in their output. To do this we first need to import the `random` module. "
   ]
  },
  {
   "cell_type": "code",
   "execution_count": 8,
   "id": "2c834ef6",
   "metadata": {},
   "outputs": [],
   "source": [
    "import random"
   ]
  },
  {
   "cell_type": "markdown",
   "id": "7852145d",
   "metadata": {},
   "source": [
    "The random function from this module generates a random number between 0 and 1. We can see how the function works below. Each time you run it it will give you a different random number."
   ]
  },
  {
   "cell_type": "code",
   "execution_count": 14,
   "id": "971f38f9",
   "metadata": {},
   "outputs": [
    {
     "data": {
      "text/plain": [
       "0.2503803768597964"
      ]
     },
     "execution_count": 14,
     "metadata": {},
     "output_type": "execute_result"
    }
   ],
   "source": [
    "random.random()"
   ]
  },
  {
   "cell_type": "markdown",
   "id": "63290dff",
   "metadata": {},
   "source": [
    "Let's now make a function called `bigger_than_random` that compares a number that we give it to a random number and tells us which is bigger."
   ]
  },
  {
   "cell_type": "code",
   "execution_count": 15,
   "id": "5f11ec11",
   "metadata": {},
   "outputs": [],
   "source": [
    "def bigger_than_random(x):\n",
    "    y=random.random()\n",
    "    if (x>y):\n",
    "        return \"x is larger\"\n",
    "    elif (x<y):\n",
    "        return \"y is larger\"\n",
    "    else:\n",
    "        return \"x and y are equal\""
   ]
  },
  {
   "cell_type": "markdown",
   "id": "bf95626c",
   "metadata": {},
   "source": [
    "We can now run this function to ask if a random number between 0 and 1 is bigger or smaller than the number we pass to the function."
   ]
  },
  {
   "cell_type": "code",
   "execution_count": 17,
   "id": "7be18039",
   "metadata": {},
   "outputs": [
    {
     "data": {
      "text/plain": [
       "'x is larger'"
      ]
     },
     "execution_count": 17,
     "metadata": {},
     "output_type": "execute_result"
    }
   ],
   "source": [
    "bigger_than_random(0.6)"
   ]
  },
  {
   "cell_type": "markdown",
   "id": "c7ad8da7",
   "metadata": {},
   "source": [
    "# Model simulating resistance spread in a hospital\n",
    "\n",
    "You have been supplied with a computer simulation of the spread of antimicrobial resistance in a hospital. Here are some details about the model:\n",
    "* In the model there are two different antibiotics that can be used by doctors in the hospital, drug A and drug B.\n",
    "* The bacteria can have four different types:\n",
    "    1. Sensitive to both antibiotics (`sensitive`)\n",
    "    2. Resistant to drug A and sensitive to drug B (`reisitant_A`)\n",
    "    3. Resistant to drug B and sensitive to drug A (`reisitant_B`)\n",
    "    4. Resistant to both drugs (`resistant_AB`).\n",
    "* Drug A is better at killing the bacteria, helping patients clear their infection twice as fast as drug B when the infecting bacteria are sensitive to it.\n",
    "* The infection is potentially lethal, with each infected patient having a 1% chance of dying each day.\n",
    "\n",
    "You task is to write a function that decides each day what proportion of patients should be treated with drug A and what proportion with drug B. Your ultimate goal is "
   ]
  },
  {
   "cell_type": "code",
   "execution_count": 7,
   "id": "a22a7a28",
   "metadata": {
    "scrolled": true
   },
   "outputs": [],
   "source": [
    "import AMR_model"
   ]
  }
 ],
 "metadata": {
  "kernelspec": {
   "display_name": "Python 3 (ipykernel)",
   "language": "python",
   "name": "python3"
  },
  "language_info": {
   "codemirror_mode": {
    "name": "ipython",
    "version": 3
   },
   "file_extension": ".py",
   "mimetype": "text/x-python",
   "name": "python",
   "nbconvert_exporter": "python",
   "pygments_lexer": "ipython3",
   "version": "3.9.13"
  }
 },
 "nbformat": 4,
 "nbformat_minor": 5
}
